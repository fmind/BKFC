{
  "nbformat": 4,
  "nbformat_minor": 0,
  "metadata": {
    "colab": {
      "private_outputs": true,
      "provenance": [],
      "authorship_tag": "ABX9TyOnwwNZD05vUSxXhmk/Vaa2",
      "include_colab_link": true
    },
    "kernelspec": {
      "name": "python3",
      "display_name": "Python 3"
    },
    "language_info": {
      "name": "python"
    }
  },
  "cells": [
    {
      "cell_type": "markdown",
      "metadata": {
        "id": "view-in-github",
        "colab_type": "text"
      },
      "source": [
        "<a href=\"https://colab.research.google.com/github/fmind/BKFC/blob/main/BKFC_Build_a_Knowledge_base_From_Chats.ipynb\" target=\"_parent\"><img src=\"https://colab.research.google.com/assets/colab-badge.svg\" alt=\"Open In Colab\"/></a>"
      ]
    },
    {
      "cell_type": "markdown",
      "source": [
        "# SETUP\n"
      ],
      "metadata": {
        "id": "FDFYpDQoGrnx"
      }
    },
    {
      "cell_type": "markdown",
      "source": [
        "## Google Cloud\n",
        "\n",
        "1.  **Google Cloud Project:**\n",
        "    * Ensure you have a Google Cloud Project. Note your **Project ID**.\n",
        "    * In the GCP Console, enable the **Google Chat API** and **Vertex AI API** for this project (APIs & Services -> Library).\n",
        "\n",
        "2.  **OAuth Credentials:**\n",
        "    * Go to APIs & Services -> **OAuth consent screen**:\n",
        "        * Configure it (User Type, App Name e.g., `BKFC`, User Support Email).\n",
        "        * Add Scopes: `chat.spaces.readonly`, `chat.messages.readonly`, `cloud-platform`.\n",
        "    * Go to APIs & Services -> **Credentials**:\n",
        "        * Click \"+ CREATE CREDENTIALS\" -> \"OAuth client ID\".\n",
        "        * Select Application type: **Desktop app**.\n",
        "        * Name it (e.g., `BKFC Colab Client`).\n",
        "        * Copy the **Client ID** and **Client Secret**.\n",
        "\n",
        "3.  **Colab Configuration:**\n",
        "    * Click the **Secrets** icon (🔑) in the left sidebar.\n",
        "    * Add the following secrets:\n",
        "        * `BKFC_CLIENT_ID`: (Paste your Client ID here)\n",
        "        * `BKFC_CLIENT_SECRET`: (Paste your Client Secret here)\n",
        "        * `BKFC_PROJECT_ID`: (Paste your GCP Project ID here)\n",
        "    * Review the parameters under `# CONFIGS` below (Model, Location, etc.). Project ID, Client ID/Secret should be automatically picked up from Secrets if set.\n",
        "\n",
        "4.  **Authentication:**\n",
        "    * When you run the `!gcloud auth application-default login...` cell under `# SERVICES`:\n",
        "        * Follow the URL printed in the output.\n",
        "        * Authenticate with your Google Account.\n",
        "        * Grant the requested permissions.\n",
        "        * Copy the authorization code provided.\n",
        "        * Paste the code back into the input field in the Colab output and press Enter.\n",
        "\n",
        "*You can now proceed to run the rest of the notebook cells*"
      ],
      "metadata": {
        "id": "lLglf9MHCNS0"
      }
    },
    {
      "cell_type": "markdown",
      "source": [
        "# CONFIGS"
      ],
      "metadata": {
        "id": "rNdsd4vp_taG"
      }
    },
    {
      "cell_type": "code",
      "source": [
        "# @title Generative AI\n",
        "\n",
        "MODEL = \"gemini-2.0-flash\" # @param {\"type\":\"string\"}\n",
        "TEMPERATURE = 0.0 # @param {\"type\":\"slider\",\"min\":0,\"max\":2,\"step\":0.1}"
      ],
      "metadata": {
        "id": "C-oa1rlN_uhh"
      },
      "execution_count": null,
      "outputs": []
    },
    {
      "cell_type": "code",
      "source": [
        "# @title Google Cloud\n",
        "\n",
        "PROJECT_ID = \"\" # @param {\"type\":\"string\"}\n",
        "LOCATION = \"us-central1\" # @param {\"type\":\"string\"}\n",
        "SECRETS = \"client_secrets.json\" # @param {\"type\":\"string\"}"
      ],
      "metadata": {
        "id": "sIFsT9THJvZJ"
      },
      "execution_count": null,
      "outputs": []
    },
    {
      "cell_type": "code",
      "source": [
        "# @title Chat API\n",
        "\n",
        "CLIENT_ID = \"\" # @param {\"type\": \"string\"}\n",
        "CLIENT_SECRET = \"\" # @param {\"type\": \"string\"}\n",
        "SCOPES = [\n",
        "    'https://www.googleapis.com/auth/cloud-platform',\n",
        "    'https://www.googleapis.com/auth/chat.spaces.readonly',\n",
        "    'https://www.googleapis.com/auth/chat.messages.readonly',\n",
        "]"
      ],
      "metadata": {
        "id": "sEsT7ip9k8jw"
      },
      "execution_count": null,
      "outputs": []
    },
    {
      "cell_type": "code",
      "source": [
        "# @title App\n",
        "\n",
        "DOWNLOAD = False # @param {\"type\": \"boolean\"}\n",
        "PAGE_SIZE = 1000 # @param {\"type\": \"integer\"}\n",
        "SINCE_DAYS = 7 # @param {\"type\": \"integer\"}"
      ],
      "metadata": {
        "id": "JENooyunjyaj"
      },
      "execution_count": null,
      "outputs": []
    },
    {
      "cell_type": "markdown",
      "source": [
        "# IMPORTS"
      ],
      "metadata": {
        "id": "FuFPpQVf_bmJ"
      }
    },
    {
      "cell_type": "markdown",
      "source": [
        "## Internal"
      ],
      "metadata": {
        "id": "MZ3ab6jiD4AB"
      }
    },
    {
      "cell_type": "code",
      "execution_count": null,
      "metadata": {
        "id": "dKmVDgj0-yGp"
      },
      "outputs": [],
      "source": [
        "import io\n",
        "import json\n",
        "import string\n",
        "import textwrap\n",
        "import typing as T\n",
        "import datetime as dt\n",
        "import itertools as it"
      ]
    },
    {
      "cell_type": "markdown",
      "source": [
        "## External"
      ],
      "metadata": {
        "id": "r3xNu-SRD5yG"
      }
    },
    {
      "cell_type": "code",
      "source": [
        "import pydantic as pdt\n",
        "from google import genai\n",
        "from IPython import display\n",
        "from google.genai import types as GT\n",
        "from google.colab import userdata, files\n",
        "from googleapiclient.discovery import build"
      ],
      "metadata": {
        "id": "lWDE1gUMD3jK"
      },
      "execution_count": null,
      "outputs": []
    },
    {
      "cell_type": "markdown",
      "source": [
        "# SECRETS"
      ],
      "metadata": {
        "id": "Jts7cjHBjtCi"
      }
    },
    {
      "cell_type": "markdown",
      "source": [
        "## Project"
      ],
      "metadata": {
        "id": "BneeG6XRDU7b"
      }
    },
    {
      "cell_type": "code",
      "source": [
        "PROJECT_ID = PROJECT_ID or userdata.get('BKFC_PROJECT_ID')"
      ],
      "metadata": {
        "id": "I9nblQCxCY37"
      },
      "execution_count": null,
      "outputs": []
    },
    {
      "cell_type": "markdown",
      "source": [
        "## Client"
      ],
      "metadata": {
        "id": "NVBcHQ3aDS9p"
      }
    },
    {
      "cell_type": "code",
      "source": [
        "CLIENT_ID = CLIENT_ID or userdata.get('BKFC_CLIENT_ID')\n",
        "CLIENT_SECRET = CLIENT_SECRET or userdata.get('BKFC_CLIENT_SECRET')"
      ],
      "metadata": {
        "id": "GJrmGSOljy2n"
      },
      "execution_count": null,
      "outputs": []
    },
    {
      "cell_type": "markdown",
      "source": [
        "## File"
      ],
      "metadata": {
        "id": "Qe2TLYUYDXVi"
      }
    },
    {
      "cell_type": "code",
      "source": [
        "with open(SECRETS, 'w') as file:\n",
        "    secrets = {\n",
        "        \"installed\": {\n",
        "            \"client_id\": CLIENT_ID,\n",
        "            \"project_id\": PROJECT_ID,\n",
        "            \"auth_uri\": \"https://accounts.google.com/o/oauth2/auth\",\n",
        "            \"token_uri\": \"https://oauth2.googleapis.com/token\",\n",
        "            \"auth_provider_x509_cert_url\": \"https://www.googleapis.com/oauth2/v1/certs\",\n",
        "            \"client_secret\": CLIENT_SECRET,\n",
        "            \"redirect_uris\": [\n",
        "                \"http://localhost\"\n",
        "            ]\n",
        "        }\n",
        "    }\n",
        "    file.write(json.dumps(secrets, indent=4))"
      ],
      "metadata": {
        "id": "zUVKJN56jxv7"
      },
      "execution_count": null,
      "outputs": []
    },
    {
      "cell_type": "markdown",
      "source": [
        "# SERVICES"
      ],
      "metadata": {
        "id": "DHIANS3gAhqo"
      }
    },
    {
      "cell_type": "markdown",
      "source": [
        "## Authentication"
      ],
      "metadata": {
        "id": "4VIq6lsJEjA5"
      }
    },
    {
      "cell_type": "code",
      "source": [
        "!gcloud auth application-default login --no-browser --client-id-file={SECRETS} --scopes={\",\".join(SCOPES)}"
      ],
      "metadata": {
        "id": "PitXpgxClBVC"
      },
      "execution_count": null,
      "outputs": []
    },
    {
      "cell_type": "markdown",
      "source": [
        "## Gen AI"
      ],
      "metadata": {
        "id": "zUu_8tsxElCG"
      }
    },
    {
      "cell_type": "code",
      "source": [
        "genai_client = genai.Client(vertexai=True, project=PROJECT_ID, location=LOCATION)"
      ],
      "metadata": {
        "id": "X1In05oB_sWp"
      },
      "execution_count": null,
      "outputs": []
    },
    {
      "cell_type": "markdown",
      "source": [
        "## Chat"
      ],
      "metadata": {
        "id": "jLbNw181EskO"
      }
    },
    {
      "cell_type": "code",
      "source": [
        "chat_service = build('chat', 'v1')"
      ],
      "metadata": {
        "id": "Zt_UUgupnhO3"
      },
      "execution_count": null,
      "outputs": []
    },
    {
      "cell_type": "markdown",
      "source": [
        "# CONTENTS"
      ],
      "metadata": {
        "id": "oo5dSo_Uo122"
      }
    },
    {
      "cell_type": "markdown",
      "source": [
        "## Filters"
      ],
      "metadata": {
        "id": "iYckxyvQE8v7"
      }
    },
    {
      "cell_type": "code",
      "source": [
        "today = dt.date.today()\n",
        "since = today - dt.timedelta(days=SINCE_DAYS)\n",
        "since"
      ],
      "metadata": {
        "id": "IoO54PVNjRDY"
      },
      "execution_count": null,
      "outputs": []
    },
    {
      "cell_type": "markdown",
      "source": [
        "## Spaces"
      ],
      "metadata": {
        "id": "9SWSaKV5E-xm"
      }
    },
    {
      "cell_type": "code",
      "source": [
        "spaces = []\n",
        "page_token = None\n",
        "while True:\n",
        "    response = chat_service.spaces().list(pageSize=PAGE_SIZE, pageToken=page_token).execute()\n",
        "    for space in response.get('spaces', []):\n",
        "        last_active_time = dt.datetime.fromisoformat(space['lastActiveTime'])\n",
        "        last_active_date = last_active_time.date()\n",
        "        if last_active_date >= since:\n",
        "            spaces.append(space)\n",
        "    if not page_token:\n",
        "        break\n",
        "len(spaces)"
      ],
      "metadata": {
        "id": "MX7CYYRGm-3R"
      },
      "execution_count": null,
      "outputs": []
    },
    {
      "cell_type": "markdown",
      "source": [
        "## Messages"
      ],
      "metadata": {
        "id": "lcWXRvg6E_ur"
      }
    },
    {
      "cell_type": "markdown",
      "source": [
        "### Unsorted"
      ],
      "metadata": {
        "id": "YK5T5XyBFIeF"
      }
    },
    {
      "cell_type": "code",
      "source": [
        "messages = []\n",
        "for space in spaces:\n",
        "    page_token = None\n",
        "    while True:\n",
        "        response = chat_service.spaces().messages().list(\n",
        "            parent=space['name'],\n",
        "            filter=f'createTime > \"{since}T00:00:00+00:00\"',\n",
        "            orderBy='createTime DESC',\n",
        "            pageToken=page_token,\n",
        "            pageSize=PAGE_SIZE,\n",
        "\n",
        "        ).execute()\n",
        "        messages.extend(response.get('messages', []))\n",
        "        if not page_token:\n",
        "            break\n",
        "len(messages)"
      ],
      "metadata": {
        "id": "M6S0aBE9tASG"
      },
      "execution_count": null,
      "outputs": []
    },
    {
      "cell_type": "markdown",
      "source": [
        "### Sorted"
      ],
      "metadata": {
        "id": "drYzyd30FJsR"
      }
    },
    {
      "cell_type": "code",
      "source": [
        "def message_sorted_key(message: dict) -> tuple[str, str, str]:\n",
        "    \"\"\"Sort the message by space, thread, and create time.\"\"\"\n",
        "    space = message.get('space', {})\n",
        "    space_name = space.get('name', '')\n",
        "    thread = message.get('thread', {})\n",
        "    thread_name = thread.get('name', '')\n",
        "    create_time = message.get('createTime', '')\n",
        "    return space_name, thread_name, create_time\n",
        "\n",
        "messages = sorted(messages, key=message_sorted_key, reverse=True)\n",
        "len(messages)"
      ],
      "metadata": {
        "id": "b1q8wbg4xOUX"
      },
      "execution_count": null,
      "outputs": []
    },
    {
      "cell_type": "markdown",
      "source": [
        "## Groups"
      ],
      "metadata": {
        "id": "fz1yQy-PFCcR"
      }
    },
    {
      "cell_type": "code",
      "source": [
        "def message_groupby_key(message: dict) -> str:\n",
        "    \"\"\"Sort the message by space name.\"\"\"\n",
        "    space = message.get('space', {})\n",
        "    space_name = space.get('name', '')\n",
        "    return space_name\n",
        "\n",
        "groups = {key: list(values) for key, values in it.groupby(messages, key=message_groupby_key)}\n",
        "len(groups)"
      ],
      "metadata": {
        "id": "vc9RfCCg03uw"
      },
      "execution_count": null,
      "outputs": []
    },
    {
      "cell_type": "markdown",
      "source": [
        "## Pages"
      ],
      "metadata": {
        "id": "YoFIlUYuFDYf"
      }
    },
    {
      "cell_type": "code",
      "source": [
        "pages = {}\n",
        "for key, messages in groups.items():\n",
        "    page = io.StringIO()\n",
        "    last_thread = None\n",
        "    for message in messages:\n",
        "        text = message.get('formattedText')\n",
        "        if not text:\n",
        "            continue\n",
        "        page.write(f'{text}\\n\\n')\n",
        "    pages[key] = page.getvalue()\n",
        "len(pages)"
      ],
      "metadata": {
        "id": "g_DwZSloezSE"
      },
      "execution_count": null,
      "outputs": []
    },
    {
      "cell_type": "markdown",
      "source": [
        "# ANALYSIS"
      ],
      "metadata": {
        "id": "-iBrz5-aLk88"
      }
    },
    {
      "cell_type": "markdown",
      "source": [
        "## Data Classes"
      ],
      "metadata": {
        "id": "Je5-HdckFOr0"
      }
    },
    {
      "cell_type": "code",
      "source": [
        "# --- Define the structure for individual pieces of information ---\n",
        "\n",
        "class QuestionAnswerPair(pdt.BaseModel):\n",
        "  \"\"\"Represents a question asked and its corresponding answer.\"\"\"\n",
        "  question: str = pdt.Field(description=\"The question that was asked.\")\n",
        "  answer: str = pdt.Field(description=\"The corresponding answer found in the chat.\")\n",
        "\n",
        "class ProjectInfo(pdt.BaseModel):\n",
        "  \"\"\"Represents a project mentioned in the chat.\"\"\"\n",
        "  name: str = pdt.Field(description=\"The name of the project mentioned.\")\n",
        "  details: str = pdt.Field(description=\"A brief summary of the status or key discussion points about this project found in the chat.\")\n",
        "\n",
        "class ActionItem(pdt.BaseModel):\n",
        "  \"\"\"Represents an action item or task identified in the chat.\"\"\"\n",
        "  task: str = pdt.Field(description=\"The description of the action item or task.\")\n",
        "  assignee: T.Optional[str] = pdt.Field(default=None, description=\"The person assigned to the task, if specified in the chat.\")\n",
        "\n",
        "# --- Define the main structure for the overall chat insights ---\n",
        "\n",
        "class ChatInsight(pdt.BaseModel):\n",
        "  \"\"\"Structured insight extracted from a Google Chat conversation history.\"\"\"\n",
        "  summary: T.Optional[str] = pdt.Field(\n",
        "      default=None,\n",
        "      description=\"A concise summary of the main topics discussed in the chat. Null if no clear overall topic.\"\n",
        "  )\n",
        "  questions_answers: T.Optional[list[QuestionAnswerPair]] = pdt.Field(\n",
        "      default=None,\n",
        "      description=\"A list of distinct questions and their corresponding answers found in the chat. Null or empty list if none found.\"\n",
        "  )\n",
        "  unanswered_questions: T.Optional[list[str]] = pdt.Field(\n",
        "      default=None,\n",
        "      description=\"A list of questions that were asked but do not appear to have been answered in the chat. Null or empty list if none found.\"\n",
        "  )\n",
        "  projects: T.Optional[list[ProjectInfo]] = pdt.Field(\n",
        "      default=None,\n",
        "      description=\"A list of projects mentioned along with their status or discussion summary. Null or empty list if none found.\"\n",
        "  )\n",
        "  action_items: T.Optional[list[ActionItem]] = pdt.Field(\n",
        "      default=None,\n",
        "      description=\"A list of specific tasks or action items mentioned, including assignees if specified. Null or empty list if none found.\"\n",
        "  )\n",
        "  feedback_suggestions: T.Optional[list[str]] = pdt.Field(\n",
        "      default=None,\n",
        "      description=\"A list of feedback provided, suggestions made for improvements, or problems/challenges raised in the chat. Null or empty list if none found.\"\n",
        "  )\n",
        "  technical_insights: T.Optional[list[str]] = pdt.Field(\n",
        "      default=None,\n",
        "      description=\"A list of specific mentions related to MLOps, AI, GenAI, tools (like Vertex AI), technical solutions, configurations, or code snippets discussed. Null or empty list if none found.\"\n",
        "  )"
      ],
      "metadata": {
        "id": "duO-zA-D2N9A"
      },
      "execution_count": null,
      "outputs": []
    },
    {
      "cell_type": "markdown",
      "source": [
        "## Templates"
      ],
      "metadata": {
        "id": "Gb9i_752Fj5x"
      }
    },
    {
      "cell_type": "code",
      "source": [
        "ANALYSIS_TEMPLATE = string.Template(\"\"\"\n",
        "Analyze the following Google Chat history and extract the relevant information according to the provided schema.\n",
        "Identify key topics, questions (answered and unanswered), mentioned projects, action items, feedback, suggestions, and technical details.\n",
        "\n",
        "# Chat History\n",
        "\n",
        "${page}\n",
        "\"\"\")"
      ],
      "metadata": {
        "id": "AZGMXVMSMkdk"
      },
      "execution_count": null,
      "outputs": []
    },
    {
      "cell_type": "markdown",
      "source": [
        "## Insights"
      ],
      "metadata": {
        "id": "QYxoEb2FFlom"
      }
    },
    {
      "cell_type": "code",
      "source": [
        "insights = {}\n",
        "for key, page in pages.items():\n",
        "    page = pages[key]\n",
        "    prompt = ANALYSIS_TEMPLATE.substitute(page=page)\n",
        "    try:\n",
        "        response = genai_client.models.generate_content(\n",
        "            model=MODEL,\n",
        "            contents=prompt,\n",
        "            config={\n",
        "                \"response_mime_type\": \"application/json\",\n",
        "                \"response_schema\": ChatInsight,\n",
        "                \"temperature\": TEMPERATURE\n",
        "            },\n",
        "        )\n",
        "        print(key, response.usage_metadata.total_token_count)\n",
        "        insights[key] = response.parsed\n",
        "    except Exception as error:\n",
        "        print(f\"An error occurred during API call for space {key}: {error}\")\n",
        "len(insights)"
      ],
      "metadata": {
        "id": "6gls81GSMpsh"
      },
      "execution_count": null,
      "outputs": []
    },
    {
      "cell_type": "markdown",
      "source": [
        "## Markdowns"
      ],
      "metadata": {
        "id": "CAsKYvY6FqPG"
      }
    },
    {
      "cell_type": "code",
      "source": [
        "markdowns = []\n",
        "for key, insight in insights.items():\n",
        "    parts = []\n",
        "    parts.append(f\"# {key}\")\n",
        "    # --- Summary ---\n",
        "    if summary := insight.summary:\n",
        "        parts.append(\"## Summary\")\n",
        "        parts.append(summary)\n",
        "    # --- Questions & Answers ---\n",
        "    if qas := insight.questions_answers:\n",
        "        parts.append(\"## Questions & Answers\")\n",
        "        for qa in qas:\n",
        "            parts.append(f\"- Q: **{qa.question}** A: {qa.answer}\")\n",
        "    # --- Unanswered Questions ---\n",
        "    if unanswered := insight.unanswered_questions:\n",
        "        parts.append(\"## Unanswered Questions\")\n",
        "        for question in unanswered:\n",
        "            parts.append(f\"- {question}\")\n",
        "    # --- Projects ---\n",
        "    if projects := insight.projects:\n",
        "        parts.append(\"## Projects\")\n",
        "        for project in projects:\n",
        "            parts.append(f\"- **{project.name}:** {project.details}\\n\")\n",
        "    # --- Action Items ---\n",
        "    if actions := insight.action_items:\n",
        "        parts.append(\"## Action Items\")\n",
        "        for item in actions:\n",
        "            parts.append(f\"- {item.task} *(Assigned: {item.assignee})*\\n\")\n",
        "    # --- Feedback & Suggestions ---\n",
        "    if feedback := insight.feedback_suggestions:\n",
        "        parts.append(\"## Feedback & Suggestions\")\n",
        "        for suggestion in feedback:\n",
        "            parts.append(f\"- {suggestion}\")\n",
        "    # --- Technical Insights ---\n",
        "    if tech := insight.technical_insights:\n",
        "        parts.append(\"## Technical Insights\")\n",
        "        for insight in tech:\n",
        "            parts.append(f\"- {insight}\")\n",
        "    # Join all parts into a single Markdown string\n",
        "    markdown = display.Markdown(\"\\n\".join(parts).strip())\n",
        "    markdowns.append(markdown)\n",
        "len(markdowns)"
      ],
      "metadata": {
        "id": "RVzZEWukM5es"
      },
      "execution_count": null,
      "outputs": []
    },
    {
      "cell_type": "markdown",
      "source": [
        "# EXPORTS"
      ],
      "metadata": {
        "id": "G9zH1xWpJaeh"
      }
    },
    {
      "cell_type": "markdown",
      "source": [
        "## Jsonlines"
      ],
      "metadata": {
        "id": "iCPd9MMfIhcD"
      }
    },
    {
      "cell_type": "code",
      "source": [
        "jsonlines_path = 'chat_insights.jsonlines'\n",
        "with open(jsonlines_path, 'w') as file:\n",
        "    for key, insight in insights.items():\n",
        "        dump = insight.model_dump_json()\n",
        "        file.write(dump)\n",
        "        file.write('\\n')\n",
        "        print(dump)\n",
        "if DOWNLOAD:\n",
        "    files.download(jsonlines_path)"
      ],
      "metadata": {
        "id": "z7BGAh2hM9EZ"
      },
      "execution_count": null,
      "outputs": []
    },
    {
      "cell_type": "markdown",
      "source": [
        "## Markdowns"
      ],
      "metadata": {
        "id": "2jaT-ksiIvoU"
      }
    },
    {
      "cell_type": "code",
      "source": [
        "markdowns_path = 'chat_insights.md'\n",
        "with open(markdowns_path, 'w') as file:\n",
        "    for markdown in markdowns:\n",
        "        file.write(markdown.data)\n",
        "        display.display(markdown)\n",
        "if DOWNLOAD:\n",
        "    files.download(markdowns_path)"
      ],
      "metadata": {
        "id": "uASqua6CIx0f"
      },
      "execution_count": null,
      "outputs": []
    }
  ]
}